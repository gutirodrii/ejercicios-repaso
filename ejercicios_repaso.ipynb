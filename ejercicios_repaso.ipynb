{
 "cells": [
  {
   "cell_type": "markdown",
   "id": "fc071de2-59af-430e-ac36-6e4c65eb1775",
   "metadata": {
    "tags": []
   },
   "source": [
    "## Ejercicios de repaso"
   ]
  },
  {
   "cell_type": "markdown",
   "id": "2df5a8b2-4a7f-42a9-a7f9-8dfb5b8fa62c",
   "metadata": {
    "tags": []
   },
   "source": [
    "1. Crea una variable que contenga el texto \"Hola, mundo!\" y luego muéstrala por pantalla.\n",
    "\n",
    "\n"
   ]
  },
  {
   "cell_type": "code",
   "execution_count": null,
   "id": "cf8eda1f-959b-4a28-aabc-dc648a1b5397",
   "metadata": {},
   "outputs": [],
   "source": []
  },
  {
   "cell_type": "markdown",
   "id": "bf2046d1-ab70-4bb6-8b06-c0fb12692420",
   "metadata": {},
   "source": [
    "2. Define dos variables numéricas, suma ambas y muestra el resultado por pantalla."
   ]
  },
  {
   "cell_type": "code",
   "execution_count": null,
   "id": "51a99ee2-e10c-4215-9333-fa99c5562c6a",
   "metadata": {},
   "outputs": [
    {
     "name": "stdout",
     "output_type": "stream",
     "text": [
      "buenas tardes\n",
      "buenas tardes\n"
     ]
    }
   ],
   "source": []
  },
  {
   "cell_type": "markdown",
   "id": "f7598ec7-5677-42fa-9e14-205179d4b9fb",
   "metadata": {},
   "source": [
    "3. Define dos variables con cadenas de texto y concaténalas para formar un saludo. Imprime el resultado por pantalla"
   ]
  },
  {
   "cell_type": "code",
   "execution_count": null,
   "id": "28e1b6ef-4200-478b-9587-55177ba5694e",
   "metadata": {},
   "outputs": [],
   "source": [
    "x = \"buenas\"\n",
    "y = \"tardes\"\n",
    "\n",
    "print(x + \" \" + y)\n",
    "print(f\"{x} {y}\")"
   ]
  },
  {
   "cell_type": "markdown",
   "id": "3042a77d-7350-4751-92f3-df430dd2cbde",
   "metadata": {},
   "source": [
    "4. Crea una cadena de texto y repítela varias veces mediante el \"operador multiplicación de cadenas\". Imprime el resultado por pantalla."
   ]
  },
  {
   "cell_type": "code",
   "execution_count": 3,
   "id": "237a632e-bc46-4ed4-a1df-bc04a29f0993",
   "metadata": {},
   "outputs": [
    {
     "name": "stdout",
     "output_type": "stream",
     "text": [
      "holaholaholaholahola\n"
     ]
    }
   ],
   "source": [
    "texto = \"hola\"\n",
    "print(texto*5)"
   ]
  },
  {
   "cell_type": "markdown",
   "id": "3ca0e5d0-5c91-42a7-a48b-d75c4283d619",
   "metadata": {},
   "source": [
    "5. Crea una cadena de texto y determina su longitud haciendo uso de la función adecuada. Imprime el resultado por pantalla."
   ]
  },
  {
   "cell_type": "code",
   "execution_count": 4,
   "id": "0ed84b32-22fe-4296-8764-a6843bc35f81",
   "metadata": {},
   "outputs": [
    {
     "name": "stdout",
     "output_type": "stream",
     "text": [
      "4\n"
     ]
    }
   ],
   "source": [
    "print(len(texto))"
   ]
  },
  {
   "cell_type": "markdown",
   "id": "e368e1c1-45cc-4d3a-bca8-bab1c4b4e787",
   "metadata": {},
   "source": [
    "6. Crea una variable numérica decimal. Redondea su valor a dos cifras significativas. imprime el resultado por pantalla."
   ]
  },
  {
   "cell_type": "code",
   "execution_count": 9,
   "id": "d8821880-f172-4c8c-90f7-306f67ca50f7",
   "metadata": {},
   "outputs": [
    {
     "name": "stdout",
     "output_type": "stream",
     "text": [
      "5.56\n",
      "5.56\n"
     ]
    }
   ],
   "source": [
    "n = 5.5555555\n",
    "\n",
    "print(round(n, 2))\n",
    "print(f\"{n:.2f}\")"
   ]
  },
  {
   "cell_type": "markdown",
   "id": "02062c6c-f3d0-4eff-9029-42c4c19f6f1d",
   "metadata": {},
   "source": [
    "7. Crea una variable numérica.\n",
    "* Aumenta su valor en cinco unidades utilizando asignación aumentada.\n",
    "* Duplica su valor utilizando asignación aumentada.\n",
    "* Disminuye su valor en una unidad utilizando asignación aumentada."
   ]
  },
  {
   "cell_type": "code",
   "execution_count": null,
   "id": "dbac6014-e4c6-49e9-bf22-4f76dcaf3469",
   "metadata": {},
   "outputs": [
    {
     "name": "stdout",
     "output_type": "stream",
     "text": [
      "11\n"
     ]
    }
   ],
   "source": [
    "n = 1\n",
    "# n = n + 5\n",
    "n += 5\n",
    "\n",
    "n *= 2\n",
    "\n",
    "# n = n-1\n",
    "n -= 1\n",
    "\n",
    "print(n)"
   ]
  },
  {
   "cell_type": "markdown",
   "id": "8b21fb5d-83e9-450c-877d-539fe55a2079",
   "metadata": {},
   "source": [
    "8. Crea una cadena de texto que represente un número entero. Conviértela a número de tipo entero."
   ]
  },
  {
   "cell_type": "code",
   "execution_count": 18,
   "id": "2f124240-1ffe-4661-9053-6c6427331d78",
   "metadata": {},
   "outputs": [
    {
     "name": "stdout",
     "output_type": "stream",
     "text": [
      "5\n"
     ]
    }
   ],
   "source": [
    "numero = \"5\"\n",
    "n = int(numero)\n",
    "\n",
    "print(n)"
   ]
  },
  {
   "cell_type": "markdown",
   "id": "7e541a9c-1dcb-49a5-aeaa-44193610e467",
   "metadata": {},
   "source": [
    "9. Crea una cadena de texto. \n",
    "\n",
    "* Accede a su primer carácter haciendo uso de la función adecuada.\n",
    "* Accede a su último carácter de dos formas distintas."
   ]
  },
  {
   "cell_type": "code",
   "execution_count": 25,
   "id": "ad260a78-1df0-41aa-aec8-43cded56638c",
   "metadata": {},
   "outputs": [
    {
     "name": "stdout",
     "output_type": "stream",
     "text": [
      "h\n"
     ]
    }
   ],
   "source": [
    "texto = \"hola\"\n",
    "\n",
    "print(texto[0])"
   ]
  },
  {
   "cell_type": "markdown",
   "id": "6452b680-6d7b-4cd1-abd8-a6acb47cb3f1",
   "metadata": {},
   "source": [
    "10. Utiliza el modificador \"f\" para incluir una variable dentro de una cadena de texto. Ejemplo: crea una variable que represente una cadena de texto con el título de tu libro favorito. Luego, imprime por pantalla la frase \"Mi libro favorito es (nombre del libro)\" haciendo uso del modificador \"f\"."
   ]
  },
  {
   "cell_type": "code",
   "execution_count": 26,
   "id": "95d35dc6-7bc1-4f9d-8524-b39a280e313e",
   "metadata": {},
   "outputs": [
    {
     "name": "stdout",
     "output_type": "stream",
     "text": [
      "Mi libro favorito es Sabor a chocolate\n"
     ]
    }
   ],
   "source": [
    "texto = \"Sabor a chocolate\"\n",
    "print(f\"Mi libro favorito es {texto}\")\n"
   ]
  },
  {
   "cell_type": "markdown",
   "id": "6f014dec-cb76-44d6-bd67-44f959479791",
   "metadata": {},
   "source": [
    "11. Crea una variable de tipo \"string\" que contenga la ruta de un archivo. Imprime por pantalla esa ruta haciendo uso de las funciones adecuadas. "
   ]
  },
  {
   "cell_type": "code",
   "execution_count": null,
   "id": "17fe5670-e0ed-4188-928e-b561f90eef1e",
   "metadata": {},
   "outputs": [],
   "source": [
    "ruta = \"./ejercicios_repaso.ipynb\""
   ]
  },
  {
   "cell_type": "markdown",
   "id": "f7df4c59-5c2e-4212-ac7e-694ff93b1d65",
   "metadata": {},
   "source": [
    "12. Construye una cadena de texto. Luego, verifica si esa cadena termina con la extensión \".jpg\"."
   ]
  },
  {
   "cell_type": "code",
   "execution_count": 32,
   "id": "edd25079-6a15-4581-a655-d0e787a4a18a",
   "metadata": {},
   "outputs": [
    {
     "name": "stdout",
     "output_type": "stream",
     "text": [
      "True\n"
     ]
    }
   ],
   "source": [
    "texto = \"image.jpg\"\n",
    "print(texto.endswith(\".jpg\"))"
   ]
  },
  {
   "cell_type": "markdown",
   "id": "b633005b-576d-4031-928c-ff25e8555081",
   "metadata": {},
   "source": [
    "13. Construye una cadena de texto. Selecciona una subcadena de esa cadena. Luego, encuentra la posición de esa subcadena dentro de la cadena más grande haciendo uso de la función adecuada."
   ]
  },
  {
   "cell_type": "code",
   "execution_count": 36,
   "id": "9ac8d989-ebb9-403e-a3c0-3bc7865c5e70",
   "metadata": {},
   "outputs": [
    {
     "name": "stdout",
     "output_type": "stream",
     "text": [
      "5\n"
     ]
    }
   ],
   "source": [
    "text = \"hola Nacho\"\n",
    "saludo = \"Nacho\"\n",
    "\n",
    "print(text.index(saludo))\n"
   ]
  },
  {
   "cell_type": "markdown",
   "id": "0c2f8199-de8b-433f-a6cf-c6be6a89db57",
   "metadata": {},
   "source": [
    "14. Construye una cadena de texto. Elige un carácter que aparezca en esa cadena. Luego, cuenta cuántas veces aparece ese carácter en la cadena haciendo uso de la función adecuada."
   ]
  },
  {
   "cell_type": "code",
   "execution_count": 5,
   "id": "a40c2406-3bef-42a8-b6be-f772554f75aa",
   "metadata": {},
   "outputs": [
    {
     "name": "stdout",
     "output_type": "stream",
     "text": [
      "El caracter m aparece 2 veces\n"
     ]
    }
   ],
   "source": [
    "\"\"\"\n",
    "14. Construye una cadena de texto. Elige un carácter que aparezca en esa cadena. Luego, cuenta cuántas veces aparece ese carácter en la cadena haciendo uso de la función adecuada.\n",
    "\"\"\"\n",
    "\n",
    "cadena = \"Estamos en clase de programacion\"\n",
    "\n",
    "caracter = \"m\"\n",
    "\n",
    "n = cadena.count(caracter)\n",
    "\n",
    "print(f\"El caracter {caracter} aparece {n} veces\")"
   ]
  },
  {
   "cell_type": "markdown",
   "id": "610b94a3-4cac-4fe0-aece-83c4c395a766",
   "metadata": {},
   "source": [
    "15. Construye una cadena de texto. elige una palabra que aparezca en esa cadena. Luego, reemplaza esa palabra por la palabra \"flores\"."
   ]
  },
  {
   "cell_type": "code",
   "execution_count": null,
   "id": "20615a52-1053-4273-933e-9d291cd953de",
   "metadata": {},
   "outputs": [
    {
     "name": "stdout",
     "output_type": "stream",
     "text": [
      "En san valentin se regalan flores\n",
      "En san valentin se regalan flores\n",
      "En san valentin se regalan flores\n"
     ]
    }
   ],
   "source": [
    "\"\"\"\n",
    "15. Construye una cadena de texto. elige una palabra que aparezca en esa cadena. Luego, reemplaza esa palabra por la palabra \"flores\".\n",
    "\"\"\"\n",
    "texto = \"En san valentin se regalan cartas\"\n",
    "\n",
    "palabra = \"cartas\"\n",
    "\n",
    "texto = texto.replace(\"cartas\", \"flores\")\n",
    "\n",
    "print(texto)\n",
    "\n",
    "# OTRA FORMA\n",
    "texto = \"En san valentin se regalan cartas\"\n",
    "\n",
    "lista_de_palabras = texto.split(\" \")\n",
    "\n",
    "lista_de_palabras[lista_de_palabras.index(palabra)] = \"flores\"\n",
    "\n",
    "nuevo_texto = \" \".join(lista_de_palabras)\n",
    "\n",
    "print(nuevo_texto)\n",
    "\n",
    "# OTRA FORMA\n",
    "lista_de_palabras = texto.split(\" \")\n",
    "\n",
    "lista_de_palabras[-1] = \"flores\"\n",
    "\n",
    "nuevo_texto = \" \".join(lista_de_palabras)\n",
    "\n",
    "print(nuevo_texto)"
   ]
  },
  {
   "cell_type": "markdown",
   "id": "36f57c6e-1e1b-4031-a180-2b2ea6a82402",
   "metadata": {},
   "source": [
    "16. Construye una cadena de texto. \n",
    "* Divide esa cadena en una lista de palabras utilizando como separador el espacio.\n",
    "* Divide esa cadena en una lista de palabras utilizando como separador la coma.\n",
    "* Divide esa cadena en una lista de palabras utilizando como separador la letra \"s\"."
   ]
  },
  {
   "cell_type": "code",
   "execution_count": 9,
   "id": "560a3a55-101e-40df-94b2-7934855fb01a",
   "metadata": {},
   "outputs": [
    {
     "name": "stdout",
     "output_type": "stream",
     "text": [
      "['Esto', 'es', 'una,', 'cadena', 'de', 'texto']\n",
      "['Esto es una', ' cadena de texto']\n",
      "['E', 'to e', ' una, cadena de texto']\n"
     ]
    }
   ],
   "source": [
    "\"\"\"\n",
    "16. Construye una cadena de texto. \n",
    "* Divide esa cadena en una lista de palabras utilizando como separador el espacio.\n",
    "* Divide esa cadena en una lista de palabras utilizando como separador la coma.\n",
    "* Divide esa cadena en una lista de palabras utilizando como separador la letra \"s\".\n",
    "\"\"\"\n",
    "cadena = \"Esto es una, cadena de texto\"\n",
    "lista1 = cadena.split(\" \")\n",
    "lista2 = cadena.split(\",\")\n",
    "lista3 = cadena.split(\"s\")\n",
    "\n",
    "print(lista1)\n",
    "print(lista2)\n",
    "print(lista3)\n",
    "\n",
    "\n"
   ]
  },
  {
   "cell_type": "code",
   "execution_count": null,
   "id": "fe469114",
   "metadata": {},
   "outputs": [],
   "source": []
  }
 ],
 "metadata": {
  "kernelspec": {
   "display_name": "Python 3",
   "language": "python",
   "name": "python3"
  },
  "language_info": {
   "codemirror_mode": {
    "name": "ipython",
    "version": 3
   },
   "file_extension": ".py",
   "mimetype": "text/x-python",
   "name": "python",
   "nbconvert_exporter": "python",
   "pygments_lexer": "ipython3",
   "version": "3.11.4"
  }
 },
 "nbformat": 4,
 "nbformat_minor": 5
}
