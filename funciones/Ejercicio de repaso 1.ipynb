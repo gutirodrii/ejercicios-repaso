{
 "cells": [
  {
   "cell_type": "markdown",
   "id": "ad997d28",
   "metadata": {},
   "source": [
    "**Requisitos:**\n",
    "- Valida la edad del usuario.\n",
    "  - Si tiene más de 18 años.\n",
    "    - Implementa una función que valide un número de teléfono\n",
    "      - Debe contener exactamente 9 dígitos.\n",
    "      - Si es incorrecto, pedirlo de nuevo.\n",
    "    - Implementa una función que valide un nombre de usuario.\n",
    "      - Debe tener entre 5 y 10 caracteres.\n",
    "      - Debe contener sólo letras y números.\n",
    "      - Si es incorrecta, pedirla de nuevo.\n",
    "    - Generar un identificador tomando los primeros tres caracteres del nombre de usuario y los últimos tres dígitos del número de teléfono.\n",
    "  - Si tiene menos de 18 años. \n",
    "    - Imprime: Juego no apto para menores de edad."
   ]
  },
  {
   "cell_type": "code",
   "execution_count": 1,
   "id": "9a404aea-2bbb-47dc-87c6-32daa1bbe1e6",
   "metadata": {},
   "outputs": [],
   "source": [
    "def validar_telefono():\n",
    "    validated = False\n",
    "        \n",
    "    while not validated:\n",
    "        telefono = input(\"Telefono\")\n",
    "        if len(telefono) == 9 and telefono.isnumeric():\n",
    "            if telefono[0] in ['6','9','7']:\n",
    "                validated = True\n",
    "                return telefono\n",
    "            else:\n",
    "                print(\"Tiene que empezar por 6 o 9\")\n",
    "        else:\n",
    "            print(\"Tiene que tener 9 digitos numericos\")"
   ]
  },
  {
   "cell_type": "code",
   "execution_count": 2,
   "id": "03754751-4598-49c5-a6b3-d8e6c1a5b6a9",
   "metadata": {},
   "outputs": [],
   "source": [
    "def validar_usuario():\n",
    "    validated = False\n",
    "    \n",
    "    while not validated:\n",
    "        usuario = input(\"Introduzca un usuario\")\n",
    "        if 5 <= len(usuario) <= 10 and usuario.isalnum():\n",
    "            validated = True\n",
    "            return usuario\n",
    "        else:\n",
    "            print(\"Nombre de usuario inválido\")"
   ]
  },
  {
   "cell_type": "code",
   "execution_count": 3,
   "id": "ceec407d-736c-47fb-88e1-c6461d269855",
   "metadata": {},
   "outputs": [],
   "source": [
    "def generar_identificador(usuario, telefono):\n",
    "    return usuario[:3] + telefono[-3:]"
   ]
  },
  {
   "cell_type": "code",
   "execution_count": 4,
   "id": "14e70af0-f72d-45c8-9879-30c11bd64b61",
   "metadata": {},
   "outputs": [
    {
     "name": "stdout",
     "output_type": "stream",
     "text": [
      "Tu id es: dav145\n"
     ]
    }
   ],
   "source": [
    "edad = int(input(\"Introduce tu edad\"))\n",
    "if edad >= 18:\n",
    "    telefono = validar_telefono()\n",
    "    usuario = validar_usuario()\n",
    "    identificador = generar_identificador(usuario, telefono)\n",
    "    print(f\"Tu id es: {identificador}\")\n",
    "else:\n",
    "    print(\"No apto para menores\")"
   ]
  },
  {
   "cell_type": "markdown",
   "id": "77506598",
   "metadata": {},
   "source": [
    "Genera una función que almacene el teléfono, el usuario y el identificador en un diccionario. Debe retornar el diccionar e imprimir sus valores por pantalla."
   ]
  },
  {
   "cell_type": "code",
   "execution_count": 5,
   "id": "be39f581-6aa3-4f7b-b872-b99fe3a19332",
   "metadata": {},
   "outputs": [],
   "source": [
    "def guardar_jugador(telefono, usuario, identificador):\n",
    "    return {'telefono': telefono, 'usuario': usuario, 'identificador':identificador}"
   ]
  },
  {
   "cell_type": "code",
   "execution_count": null,
   "id": "2b63f0d3-436d-4890-8fbe-8cd11843b935",
   "metadata": {},
   "outputs": [
    {
     "name": "stdout",
     "output_type": "stream",
     "text": [
      "{'telefono': '674151145', 'usuario': 'david', 'identificador': 'dav145'}\n"
     ]
    }
   ],
   "source": [
    "jugador = guardar_jugador(usuario=usuario, telefono=telefono, identificador=identificador)\n",
    "print(jugador)"
   ]
  },
  {
   "cell_type": "markdown",
   "id": "58d3d380",
   "metadata": {},
   "source": [
    "Genera una función que guarde los datos del usuario en un fichero de texto. Debe recibir el diccionario anterior como parámetro e incluir las siguientes consideraciones:\n",
    "- Validar que el diccionario de entrada contenga tres claves\n",
    "- El fichero resultado no debe sobreescribirse en cada ejecución\n",
    "- Añadir dos líneas en blanco entre cada bloque de jugador"
   ]
  },
  {
   "cell_type": "code",
   "execution_count": null,
   "id": "3d9112b7-b31c-46d4-bbfb-a1529a980664",
   "metadata": {},
   "outputs": [],
   "source": [
    "def guardar_en_fichero(jugador):\n",
    "    \"\"\"\n",
    "    Vamos a crear una funcion que:\n",
    "    - longitud de claves del dict tiene que ser 3\n",
    "    - fichero tiene que añadir sin borrar el txt\n",
    "    - añade dos saltos de linea\n",
    "    \"\"\"\n",
    "    if len(jugador.keys()) == 3:\n",
    "        with open('jugadores.txt', 'a') as f:\n",
    "            f.write(f'\\n\\n{jugador}\\n')\n",
    "    else:\n",
    "        print(\"No tiene 3 claves\")\n",
    "    "
   ]
  },
  {
   "cell_type": "code",
   "execution_count": 42,
   "id": "b3f7a7d1-bb42-46ea-ae69-fb28864795d3",
   "metadata": {},
   "outputs": [],
   "source": [
    "guardar_en_fichero(jugador)"
   ]
  },
  {
   "cell_type": "code",
   "execution_count": null,
   "id": "7a4fe23e",
   "metadata": {},
   "outputs": [],
   "source": []
  }
 ],
 "metadata": {
  "kernelspec": {
   "display_name": "Python 3",
   "language": "python",
   "name": "python3"
  },
  "language_info": {
   "codemirror_mode": {
    "name": "ipython",
    "version": 3
   },
   "file_extension": ".py",
   "mimetype": "text/x-python",
   "name": "python",
   "nbconvert_exporter": "python",
   "pygments_lexer": "ipython3",
   "version": "3.11.4"
  }
 },
 "nbformat": 4,
 "nbformat_minor": 5
}
