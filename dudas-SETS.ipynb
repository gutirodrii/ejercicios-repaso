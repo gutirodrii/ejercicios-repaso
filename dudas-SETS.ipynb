{
 "cells": [
  {
   "cell_type": "code",
   "execution_count": null,
   "metadata": {},
   "outputs": [
    {
     "name": "stdout",
     "output_type": "stream",
     "text": [
      "{1, 2, 3, 'hola'}\n",
      "<class 'dict'>\n",
      "<class 'set'>\n"
     ]
    }
   ],
   "source": [
    "\"\"\"\n",
    "Cuando quiero hacer un set se me crea un diccionario\n",
    "conflicto de sintaxis\n",
    "\"\"\"\n",
    "# EL ORDEN DE LOS ELEMENTOS DENTRO DEL SET, PUEDE VARIAR.\n",
    "\n",
    "\"\"\"\n",
    "---usando llaves {}---\n",
    "\"\"\"\n",
    "# Crear un set con elementos\n",
    "mi_set = {1, 2, 3, \"hola\", 3} # Los duplicados (3) se eliminan automáticamente\n",
    "\n",
    "print(mi_set)\n",
    "\n",
    "# Crear un set vacío (¡Cuidado!)\n",
    "set_vacio_incorrecto = {} # Esto crea un diccionario vacío, no un set\n",
    "set_vacio_correcto = set() # Esta es la forma correcta para un set vacío\n",
    "\n",
    "print(type(set_vacio_incorrecto))\n",
    "print(type(set_vacio_correcto))"
   ]
  },
  {
   "cell_type": "code",
   "execution_count": 24,
   "metadata": {},
   "outputs": [
    {
     "name": "stdout",
     "output_type": "stream",
     "text": [
      "{1, 2, 3, 4}\n",
      "{'c', 'a', 'b'}\n",
      "{'b', 'c', 'd', 'r', 'a'}\n",
      "set()\n"
     ]
    }
   ],
   "source": [
    "\"\"\"\n",
    "---usando el constructor set() ---\n",
    "\"\"\"\n",
    "# Desde una lista\n",
    "lista = [1, 2, 2, 3, 4, 4, 4]\n",
    "set_desde_lista = set(lista)\n",
    "print(set_desde_lista)\n",
    "\n",
    "# Desde una tupla\n",
    "tupla = (\"a\", \"b\", \"a\", \"c\")\n",
    "set_desde_tupla = set(tupla)\n",
    "print(set_desde_tupla)\n",
    "\n",
    "# Desde un string\n",
    "cadena = \"abracadabra\"\n",
    "set_desde_cadena = set(cadena)\n",
    "print(set_desde_cadena)\n",
    "\n",
    "# Crear un set vacío\n",
    "set_vacio = set()\n",
    "print(set_vacio)"
   ]
  },
  {
   "cell_type": "code",
   "execution_count": 28,
   "metadata": {},
   "outputs": [
    {
     "name": "stdout",
     "output_type": "stream",
     "text": [
      "{0, 64, 4, 36, 16}\n",
      "{'m', 'g', 'c', 'p', 'o', 'i', 'r', 'n', 'a'}\n"
     ]
    }
   ],
   "source": [
    "\"\"\"\n",
    "--- usando set por comprensión ---\n",
    "\"\"\"\n",
    "# Crear un set de cuadrados de números pares del 0 al 9\n",
    "numeros = range(10)\n",
    "set_cuadrados_pares = {x*x for x in numeros if x % 2 == 0}\n",
    "print(set_cuadrados_pares)\n",
    "\n",
    "# Crear un set a partir de las letras de una palabra\n",
    "palabra = \"programacion\"\n",
    "set_letras = {letra for letra in palabra}\n",
    "print(set_letras)"
   ]
  }
 ],
 "metadata": {
  "kernelspec": {
   "display_name": "Python 3",
   "language": "python",
   "name": "python3"
  },
  "language_info": {
   "codemirror_mode": {
    "name": "ipython",
    "version": 3
   },
   "file_extension": ".py",
   "mimetype": "text/x-python",
   "name": "python",
   "nbconvert_exporter": "python",
   "pygments_lexer": "ipython3",
   "version": "3.11.4"
  }
 },
 "nbformat": 4,
 "nbformat_minor": 2
}
