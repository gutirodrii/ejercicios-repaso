{
 "cells": [
  {
   "cell_type": "markdown",
   "id": "fd046467-7e4c-43b6-9491-a07624e67c4d",
   "metadata": {},
   "source": [
    "## Ejercicios de repaso 2"
   ]
  },
  {
   "cell_type": "markdown",
   "id": "e297a896-f143-4882-8106-d11590ee117f",
   "metadata": {},
   "source": [
    "1. Escribe un programa que solicite al usuario su nombre y salúdalo de manera personalizada usando la función input. Imprime el resultado por pantalla haciendo uso del modificador \"f\"."
   ]
  },
  {
   "cell_type": "code",
   "execution_count": 1,
   "id": "85c08888-5789-40e8-9249-96d9baa06805",
   "metadata": {},
   "outputs": [
    {
     "name": "stdout",
     "output_type": "stream",
     "text": [
      "Hola manolo\n"
     ]
    }
   ],
   "source": [
    "nombre = input(\"Cual es tu nombre?\")\n",
    "\n",
    "print(\"Hola \" + nombre)"
   ]
  },
  {
   "cell_type": "markdown",
   "id": "d6944808-72f5-402d-a3f3-46fa59188acb",
   "metadata": {
    "tags": []
   },
   "source": [
    "2. Escribe un programa que solicite al usuario dos números y muestre la suma, resta, multiplicación y división de esos números."
   ]
  },
  {
   "cell_type": "code",
   "execution_count": 1,
   "id": "50ece61d-d2dc-43a0-9729-284cc1c0cb15",
   "metadata": {},
   "outputs": [
    {
     "name": "stdout",
     "output_type": "stream",
     "text": [
      "la suma es  18\n",
      "la resta es  6\n",
      "la multiplicacion es  72\n",
      "la division es  2.0\n"
     ]
    }
   ],
   "source": [
    "numero1 = int(input(\"Ingrese el primer numero: \"))\n",
    "numero2 = int(input(\"Ingrese el segundo numero: \"))\n",
    "\n",
    "suma = numero1 + numero2\n",
    "resta = numero1 - numero2\n",
    "multiplicacion = numero1 * numero2\n",
    "division = numero1 / numero2\n",
    "\n",
    "print(\"la suma es \", suma)\n",
    "print(\"la resta es \", resta)\n",
    "print(\"la multiplicacion es \", multiplicacion)\n",
    "print(\"la division es \", division)\n",
    "\n"
   ]
  },
  {
   "cell_type": "markdown",
   "id": "e4cb4348-8cf0-42ae-8383-47cbeda07e1a",
   "metadata": {},
   "source": [
    "3. Escribe un programa que solicite al usuario su peso (en kilogramos) y su altura (en metros). Luego calcula y muestra su Índice de Masa Corporal (IMC)."
   ]
  },
  {
   "cell_type": "code",
   "execution_count": 3,
   "id": "b6f7f1a4-29cd-4325-abe9-a0f9c62e5000",
   "metadata": {},
   "outputs": [
    {
     "name": "stdout",
     "output_type": "stream",
     "text": [
      "su IMC es de 0.0020761245674740486\n"
     ]
    }
   ],
   "source": [
    "peso = int(input(\"Ingrese su peso: \"))\n",
    "altura = int(input(\"Ingrese su altura: \"))\n",
    "\n",
    "imc = peso / (altura * altura)\n",
    "\n",
    "print(f\"su IMC es de {imc}\")"
   ]
  },
  {
   "cell_type": "markdown",
   "id": "0fde4b28-f614-47ef-a4dc-3c169b744ca9",
   "metadata": {},
   "source": [
    "4. Escribe un programa que solicite al usuario su frase célebre favorita. Luego cuenta el número de palabras en una frase proporcionada por el usuario. Imprime el resultado por pantalla."
   ]
  },
  {
   "cell_type": "code",
   "execution_count": 5,
   "id": "5e432a92-d123-4505-9e25-aceb4456405c",
   "metadata": {},
   "outputs": [
    {
     "name": "stdout",
     "output_type": "stream",
     "text": [
      "7\n"
     ]
    }
   ],
   "source": [
    "frase = \"dos tetas tiran mas que dos carretas\"\n",
    "lista = frase.split(' ')\n",
    "\n",
    "print(len(lista))"
   ]
  },
  {
   "cell_type": "markdown",
   "id": "10b35f77-854e-4aa5-8ad1-1e193007125c",
   "metadata": {},
   "source": [
    "5. Escribe un programa que solicite al usuario su frase célebre favorita. Luego cuenta el número de palabras, el número de letras y espacios."
   ]
  },
  {
   "cell_type": "code",
   "execution_count": null,
   "id": "7e3c3968-e5fd-47f0-b717-7134e5e4f4d3",
   "metadata": {},
   "outputs": [
    {
     "name": "stdout",
     "output_type": "stream",
     "text": [
      "dostetastiranmasquedoscarretas\n",
      "36\n",
      "6\n"
     ]
    }
   ],
   "source": [
    "\n",
    "print(frase.replace(\" \", \"\"))\n",
    "print(len(frase))\n",
    "print(len(lista) - 1)"
   ]
  },
  {
   "cell_type": "markdown",
   "id": "cc56b71f-a6db-4409-aa1f-2f31a7301d86",
   "metadata": {},
   "source": [
    "6. Escribe un programa que solicite al usuario el total (en euros) de la factura y el porcentaje de propina que desea dar. Calcula el total incluyendo la propina."
   ]
  },
  {
   "cell_type": "code",
   "execution_count": 3,
   "id": "b12bedb5-abbf-4390-aea8-ce4f52669199",
   "metadata": {},
   "outputs": [
    {
     "name": "stdout",
     "output_type": "stream",
     "text": [
      "El total incluyendo la propina es de 126.48 euros\n"
     ]
    }
   ],
   "source": [
    "\"\"\"\n",
    "6. Escribe un programa que solicite al usuario el total (en euros) de la factura y el porcentaje de propina que desea dar. Calcula el total incluyendo la propina.\n",
    "\"\"\"\n",
    "factura = float(input(\"Ingrese el total de la factura: \"))\n",
    "porcentaje = float(input(\"Ingrese el porcentaje de propina: \"))\n",
    "\n",
    "total = factura + (factura * porcentaje / 100)\n",
    "\n",
    "print(f\"El total incluyendo la propina es de {total} euros\")"
   ]
  },
  {
   "cell_type": "markdown",
   "id": "71760906-d7fa-44d2-816b-2055418ba996",
   "metadata": {},
   "source": [
    "7. Crea una variable de tipo string que contenga una frase. Luego, verifica si la palabra \"Python\" está presente en la frase. Usa una variable booleana para almacenar el resultado y muestra un mensaje que indique si la palabra fue encontrada o no."
   ]
  },
  {
   "cell_type": "code",
   "execution_count": null,
   "id": "43fe557f-37e0-4608-9fc6-724550f4e7db",
   "metadata": {},
   "outputs": [
    {
     "name": "stdout",
     "output_type": "stream",
     "text": [
      "Python esta en el texto\n"
     ]
    }
   ],
   "source": [
    "texto = \"Estamos programando en Python\"\n",
    "\n",
    "if \"Python\" in texto:\n",
    "    print(\"Python esta en el texto\")\n",
    "    "
   ]
  },
  {
   "cell_type": "markdown",
   "id": "9dd91085-4d35-4b6f-954b-2fc6b71a669b",
   "metadata": {},
   "source": [
    "8. Crea dos variables de tipo string que contengan cada una una palabra. Compara la longitud de ambas palabras utilizando variables booleanas y muestra si las longitudes son iguales o no."
   ]
  },
  {
   "cell_type": "code",
   "execution_count": null,
   "id": "21b40d39-528d-49ea-a19a-b454eeefbec0",
   "metadata": {},
   "outputs": [
    {
     "name": "stdout",
     "output_type": "stream",
     "text": [
      "False\n"
     ]
    }
   ],
   "source": [
    "\"\"\"\n",
    "8. Crea dos variables de tipo string que contengan cada una una palabra. Compara la longitud de ambas palabras utilizando variables booleanas y muestra si las longitudes son iguales o no.\n",
    "\"\"\"\n",
    "palabra1 = \"leon\"\n",
    "palabra2 = \"huevon\"\n",
    "\n",
    "is_len_equal = len(palabra1) == len(palabra2)\n",
    "\n",
    "print(is_len_equal)\n",
    "\n",
    "# OTRA FORMA\n",
    "print(len(palabra1) == len(palabra2))"
   ]
  },
  {
   "cell_type": "markdown",
   "id": "775b0992-cac6-4a3e-b685-65343baae3d3",
   "metadata": {
    "tags": []
   },
   "source": [
    "9. Crea una variable de tipo entero. Determina si el número es par o no mediante la creación de una variable booleana. Imprime el resultado por pantalla. Pista: todos los números pares son divisibles por 2."
   ]
  },
  {
   "cell_type": "code",
   "execution_count": null,
   "id": "5b02a6d8-82fb-4e56-9bcc-44e4183ddf91",
   "metadata": {},
   "outputs": [],
   "source": []
  }
 ],
 "metadata": {
  "kernelspec": {
   "display_name": "Python 3",
   "language": "python",
   "name": "python3"
  },
  "language_info": {
   "codemirror_mode": {
    "name": "ipython",
    "version": 3
   },
   "file_extension": ".py",
   "mimetype": "text/x-python",
   "name": "python",
   "nbconvert_exporter": "python",
   "pygments_lexer": "ipython3",
   "version": "3.11.4"
  }
 },
 "nbformat": 4,
 "nbformat_minor": 5
}
