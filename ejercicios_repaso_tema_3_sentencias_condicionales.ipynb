{
 "cells": [
  {
   "cell_type": "markdown",
   "id": "ce105d8d-dca8-4bc9-81d2-3f711534ad36",
   "metadata": {},
   "source": [
    "# Ejercicios de repaso sentencias condicionales"
   ]
  },
  {
   "cell_type": "markdown",
   "id": "baa89fd7-70df-49f3-869f-24e1ceab0c6c",
   "metadata": {},
   "source": [
    "1. Sistema de calificaciones\n",
    "\n",
    "Escribe un programa que solicite al usuario una calificación entre 0 y 100. Basado en la calificación, el programa debe imprimir la letra correspondiente a la calificación (A, B, C, D, F), donde A es 90-100, B es 80-89, C es 70-79, D es 60-69 y F es 0-59. Utiliza condicionales anidados y asegúrate de validar que la entrada esté dentro del rango."
   ]
  },
  {
   "cell_type": "code",
   "execution_count": null,
   "id": "283847e2-4bf8-40a8-a811-df1b92a07ebf",
   "metadata": {},
   "outputs": [],
   "source": [
    "calificacion = int(input(\"Ingrese la calificacion: \")) # Entre 0 y 100\n",
    "if calificacion > 100:\n",
    "    print(\"Introduzca una calificacion entre 0 y 100\")\n",
    "elif calificacion < 0:\n",
    "    print(\"Introduzca una calificacion entre 0 y 100\")\n",
    "elif 100 >=calificacion >= 90:\n",
    "    print(\"A\")\n",
    "elif 90 > calificacion >= 80:\n",
    "    print(\"B\")\n",
    "elif 80 > calificacion >= 70:\n",
    "    print(\"C\")\n",
    "elif 70 > calificacion >= 60:\n",
    "    print(\"D\")\n",
    "else:\n",
    "    print(\"F\")"
   ]
  },
  {
   "cell_type": "markdown",
   "id": "93907cfd-aa9a-4c99-9693-d0b209e930e6",
   "metadata": {},
   "source": [
    "2. Sistema de Descuentos en Tienda\n",
    "\n",
    "Una tienda ofrece un descuento en la compra total basado en la edad del cliente y el día de la semana. Si el cliente tiene 60 años o más, obtiene un 10% de descuento. Además, si es miércoles, la tienda ofrece un 5% de descuento adicional a todos los clientes, independientemente de su edad. Escribe un programa que pida al usuario su edad y el día de la semana (supongamos que el usuario introducirá un número del 1 al 7, correspondiendo 1 al lunes y 7 al domingo) y calcule el porcentaje total de descuento que el cliente recibiría."
   ]
  },
  {
   "cell_type": "markdown",
   "id": "8420c086-0735-4e30-ae56-581e7e540b35",
   "metadata": {},
   "source": [
    "* Utilizando sentencias if-else anidadas"
   ]
  },
  {
   "cell_type": "code",
   "execution_count": null,
   "id": "d00cdb46-60ac-4710-ab6a-4fc8813ea7ea",
   "metadata": {},
   "outputs": [
    {
     "name": "stdout",
     "output_type": "stream",
     "text": [
      "el descuento es de  15\n"
     ]
    }
   ],
   "source": [
    "edad = int(input(\"Ingrese su edad: \"))\n",
    "dia_semana = int(input(\"Ingrese el dia de la semana: \")) \n",
    "descuento_edad = 10\n",
    "descuento_miercoles = 5\n",
    "\n",
    "descuento_acumulado = 0\n",
    "\n",
    "if edad >= 60:\n",
    "    descuento_acumulado += descuento_edad # descuento_acumulado = 10\n",
    "\n",
    "if dia_semana == 3:\n",
    "    descuento_acumulado += descuento_miercoles # descuento_acumulado = 15\n",
    "\n",
    "print(\"el descuento es de \", descuento_acumulado)\n",
    "    \n",
    "\n"
   ]
  },
  {
   "cell_type": "markdown",
   "id": "2ec699fa-0258-43b7-8ccd-e780ea7ab870",
   "metadata": {},
   "source": [
    "* Haciendo uso de la sentencia elif"
   ]
  },
  {
   "cell_type": "code",
   "execution_count": null,
   "id": "760d604b-d210-4c91-82e7-f12cafdff59f",
   "metadata": {},
   "outputs": [],
   "source": []
  },
  {
   "cell_type": "markdown",
   "id": "bf0ced40-b752-4b0b-bbb8-3bd431246969",
   "metadata": {},
   "source": [
    "3. Selector de género musical\n",
    "\n",
    "Escribe un programa que sugiera un género musical para escuchar basado en el estado de ánimo y la hora del día del usuario. El estado de ánimo puede ser \"feliz\" o \"triste\", y la hora del día puede ser \"mañana\", \"tarde\" o \"noche\". Por ejemplo, si el usuario está feliz por la mañana, sugiere música pop; si está triste por la noche, sugiere jazz."
   ]
  },
  {
   "cell_type": "code",
   "execution_count": null,
   "id": "890a97c4-6898-47ed-b6d1-a244cdc4f7a2",
   "metadata": {},
   "outputs": [],
   "source": []
  },
  {
   "cell_type": "markdown",
   "id": "9beba143-1694-4d45-86b7-3d72e71cc2c1",
   "metadata": {},
   "source": [
    "Resuelve el problema anterior haciendo uso de la sentencia match-case"
   ]
  },
  {
   "cell_type": "code",
   "execution_count": null,
   "id": "8d3c030b-613d-4d89-8859-d07e0683f531",
   "metadata": {},
   "outputs": [],
   "source": []
  }
 ],
 "metadata": {
  "kernelspec": {
   "display_name": "Python 3",
   "language": "python",
   "name": "python3"
  },
  "language_info": {
   "codemirror_mode": {
    "name": "ipython",
    "version": 3
   },
   "file_extension": ".py",
   "mimetype": "text/x-python",
   "name": "python",
   "nbconvert_exporter": "python",
   "pygments_lexer": "ipython3",
   "version": "3.11.4"
  }
 },
 "nbformat": 4,
 "nbformat_minor": 5
}
