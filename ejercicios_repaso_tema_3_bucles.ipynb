{
 "cells": [
  {
   "cell_type": "markdown",
   "id": "8b13f010-4c6a-42ca-9960-bb27d6d8c39d",
   "metadata": {
    "tags": []
   },
   "source": [
    "# Ejercicios de repaso: bucles \"for\" y \"while\""
   ]
  },
  {
   "cell_type": "markdown",
   "id": "40b5572e-813c-42cc-a8ea-cb08e1dcd8d5",
   "metadata": {},
   "source": [
    "Ejercicio 1. Crea un programa que solicite al usuario ingresar su dirección de correo electrónico y verifique si contiene el carácter '@'. Si no lo contiene, el programa debe seguir pidiendo al usuario que ingrese una dirección de correo válida."
   ]
  },
  {
   "cell_type": "markdown",
   "id": "d8c337e0-2566-4020-a11f-2ab747e32a73",
   "metadata": {},
   "source": [
    "Ejercicio 2. Escribe un programa que pida al usuario que cree una contraseña. Luego, el programa debe pedir al usuario que ingrese la contraseña nuevamente. Si las contraseñas no coinciden, el programa debe seguir pidiendo al usuario que la ingrese correctamente hasta que coincidan."
   ]
  },
  {
   "cell_type": "markdown",
   "id": "93e0541f-0806-485a-ac26-a28d8d778fec",
   "metadata": {},
   "source": [
    "Ejercicio 3. Escribe un programa que cuente cuántos números pares e impares hay desde 1 hasta un número N proporcionado por el usuario. "
   ]
  },
  {
   "cell_type": "markdown",
   "id": "25148a8f-a0a2-4708-bc36-4bbc84d62ccb",
   "metadata": {},
   "source": [
    "Ejercicio 4. Escribe un programa que pida al usuario ingresar una palabra (o frase) y luego cuente cuántas vocales (a, e, i, o, u) contiene."
   ]
  },
  {
   "cell_type": "markdown",
   "id": "be0eb6ab-140c-457f-93e3-4629f56fe9a6",
   "metadata": {},
   "source": [
    "Ejercicio 5. Escribe un programa que pida al usuario ingresar una frase y luego cuente cuántos dígitos tiene esa frase. "
   ]
  }
 ],
 "metadata": {
  "kernelspec": {
   "display_name": "Python 3 (ipykernel)",
   "language": "python",
   "name": "python3"
  },
  "language_info": {
   "codemirror_mode": {
    "name": "ipython",
    "version": 3
   },
   "file_extension": ".py",
   "mimetype": "text/x-python",
   "name": "python",
   "nbconvert_exporter": "python",
   "pygments_lexer": "ipython3",
   "version": "3.11.5"
  }
 },
 "nbformat": 4,
 "nbformat_minor": 5
}
